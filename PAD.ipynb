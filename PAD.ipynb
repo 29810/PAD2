{
 "cells": [
  {
   "cell_type": "markdown",
   "metadata": {
    "id": "YBf77-O2VMaK"
   },
   "source": [
    "## iterator"
   ]
  },
  {
   "cell_type": "code",
   "execution_count": 6,
   "metadata": {
    "id": "MobBtdWEVEu1"
   },
   "outputs": [
    {
     "name": "stdout",
     "output_type": "stream",
     "text": [
      "0\n",
      "0\n",
      "0\n",
      "1\n"
     ]
    }
   ],
   "source": [
    "'''\n",
    "Zadanie 1\n",
    "Zaimplementuj własny iterator o nazwie tetranacci, zwracający kolejne liczby ciągu Tetranacciego.\n",
    "Funkcja __init__ powinna posiadać parametr o nazwie steps określający liczbę wyrazów ciągu,\n",
    "po których funkcja __next__ rzuca wyjątek StopIteration.\n",
    "Napisz program, w którym wykorzystasz swój iterator do wypisania na ekranie kolejnych wyrazów tego ciągu.\n",
    "Niech liczbę wyrazów do wypisania podaje użytkownik.\n",
    "\n",
    "'''\n",
    "class Tetranacci:\n",
    "    def __init__(self, steps):\n",
    "        self.steps = steps\n",
    "        self.counter = 0\n",
    "        self.values = [0, 0, 0, 1]\n",
    "\n",
    "    def __iter__(self):\n",
    "        return self\n",
    "\n",
    "    def __next__(self):\n",
    "        if self.counter < self.steps:\n",
    "            self.counter += 1\n",
    "            if self.counter <= 4:\n",
    "                return self.values[self.counter - 1]\n",
    "            else:\n",
    "                #obliczyc kolejna liczbe\n",
    "                next_value = sum(self.values)\n",
    "                self.values = self.values[1:] + [next_value]\n",
    "                return next_value\n",
    "        else:\n",
    "            raise StopIteration\n",
    "        \n",
    "steps = 10\n",
    "tet = Tetranacci(steps)\n",
    "print(next(tet))\n",
    "print(next(tet))\n",
    "print(next(tet))\n",
    "print(next(tet))"
   ]
  },
  {
   "cell_type": "code",
   "execution_count": 7,
   "metadata": {},
   "outputs": [
    {
     "name": "stdout",
     "output_type": "stream",
     "text": [
      "1\n",
      "2\n",
      "4\n",
      "8\n",
      "15\n",
      "29\n"
     ]
    }
   ],
   "source": [
    "for val in tet:\n",
    "    print(val)"
   ]
  },
  {
   "cell_type": "markdown",
   "metadata": {
    "id": "HgA0kNjTVXwG"
   },
   "source": [
    "## generator"
   ]
  },
  {
   "cell_type": "code",
   "execution_count": 11,
   "metadata": {
    "id": "hl3BhofyVdoH"
   },
   "outputs": [
    {
     "name": "stdout",
     "output_type": "stream",
     "text": [
      "1\n",
      "3\n",
      "6\n"
     ]
    }
   ],
   "source": [
    "'''\n",
    "Zadanie 2\n",
    "Zaimplementuj własny generator o nazwie accumulate,\n",
    "zwracający kolejne sumy elementów z podanego obiektu iterowalnego.\n",
    "'''\n",
    "\n",
    "def accumulate(iterable_object):\n",
    "    total = 0\n",
    "    for val in iterable_object:\n",
    "        total += val\n",
    "        yield total\n",
    "\n",
    "it_ob = [1,2,3,4,5,6]\n",
    "acc = accumulate(it_ob)\n",
    "\n",
    "print(next(acc))\n",
    "print(next(acc))\n",
    "print(next(acc))"
   ]
  },
  {
   "cell_type": "code",
   "execution_count": 14,
   "metadata": {
    "id": "ffhbiOTJVnmB"
   },
   "outputs": [
    {
     "name": "stdout",
     "output_type": "stream",
     "text": [
      "Hello\n",
      "Nice to meet you Asia\n"
     ]
    }
   ],
   "source": [
    "'''\n",
    "Zadanie 3\n",
    "\n",
    "Napisz własny dekorator o nazwie hello. Wynikiem jego działania powinno być:\n",
    "• wypisanie na ekranie napisu hello\n",
    "• wywołanie funkcji przekazanej jako argument.\n",
    "'''\n",
    "\n",
    "def hello(func):\n",
    "    def wrapper(*args, **kwargs):\n",
    "        print(\"Hello\")\n",
    "        return func(*args, **kwargs)\n",
    "    return wrapper\n",
    "\n",
    "@hello\n",
    "def greet(name):\n",
    "    print(f\"Nice to meet you {name}\")\n",
    "\n",
    "\n",
    "greet(\"Asia\")"
   ]
  },
  {
   "cell_type": "code",
   "execution_count": 15,
   "metadata": {
    "id": "NjZRSS6sVrm5"
   },
   "outputs": [
    {
     "data": {
      "text/plain": [
       "29"
      ]
     },
     "execution_count": 15,
     "metadata": {},
     "output_type": "execute_result"
    }
   ],
   "source": [
    "'''\n",
    "Zadanie 4\n",
    "Zaimplementuj własną funkcję o nazwie tetranacci, zwracający określony element ciągu Tetranacciego.\n",
    "Funkcja powinna posiadać parametr o nazwie n określający numer wyrazu ciągu do obliczenia.\n",
    "Obliczenia wykonuj rekurencyjnie.\n",
    "'''\n",
    "\n",
    "def tetranacci(n):\n",
    "    if n == 1 or n == 2 or n == 3:\n",
    "        return 0\n",
    "    elif n == 4:\n",
    "        return 1\n",
    "    else:\n",
    "        return tetranacci(n-1) + tetranacci(n-2) + tetranacci(n-3) + tetranacci(n-4)\n",
    "    \n",
    "tetranacci(10)"
   ]
  },
  {
   "cell_type": "markdown",
   "metadata": {
    "id": "eDFgAg3cWRAk"
   },
   "source": [
    "## klasy"
   ]
  },
  {
   "cell_type": "code",
   "execution_count": 22,
   "metadata": {
    "id": "LMrKGhhSWMM8"
   },
   "outputs": [
    {
     "name": "stdout",
     "output_type": "stream",
     "text": [
      "34\n",
      "200\n"
     ]
    }
   ],
   "source": [
    "'''\n",
    "Zadanie 5\n",
    "Stwórz klasę Pojazd z atrybutami predkosc_max i przebieg\n",
    "stwórz instancję klasy i wydrukuj jej atrybuty do konsoli\n",
    "tworzac instancję możesz podać dowolne wielkości\n",
    "'''\n",
    "class Pojazd:\n",
    "    def __init__(self, predkosc_max, przebieg, model):\n",
    "        self.predkosc_max = predkosc_max\n",
    "        self.przebieg = przebieg\n",
    "        self.model = model\n",
    "\n",
    "    def liczba_miejsc(self, miejsca):\n",
    "        return f\"{self.model} pomieści {miejsca} osób.\"\n",
    "\n",
    "pojazd = Pojazd(200, 34, \"Pojazd XYZ\")\n",
    "print(pojazd.przebieg)\n",
    "print(pojazd.predkosc_max)"
   ]
  },
  {
   "cell_type": "code",
   "execution_count": 23,
   "metadata": {
    "id": "z_dYT1f5Wexv"
   },
   "outputs": [
    {
     "name": "stdout",
     "output_type": "stream",
     "text": [
      "150\n",
      "200\n",
      "Autobus XYZ\n"
     ]
    }
   ],
   "source": [
    "'''\n",
    "Zadanie 6\n",
    "Stwórz klasę Autobus, która dziedziczy po Pojeździe utworzonym wcześniej,\n",
    "ale do atrybutów Pojazdu dodaj jeszcze nazwę modelu\n",
    "stwórz instancję klasy i wydrukuj jej atrybuty\n",
    "'''\n",
    "class Autobus(Pojazd):\n",
    "    def __init__(self, predkosc_max, przebieg, model):\n",
    "        super().__init__(predkosc_max, przebieg, model)\n",
    "\n",
    "    def liczba_miejsc(self, miejsca=50):\n",
    "        return f\"{self.model} pomieści {miejsca} osób.\"\n",
    "\n",
    "autobus = Autobus(150, 200, \"Autobus XYZ\")\n",
    "print(autobus.predkosc_max)\n",
    "print(autobus.przebieg)\n",
    "print(autobus.model)"
   ]
  },
  {
   "cell_type": "code",
   "execution_count": 25,
   "metadata": {
    "id": "CDj9cBQoWj-v"
   },
   "outputs": [
    {
     "name": "stdout",
     "output_type": "stream",
     "text": [
      "Autbous 2 pomieści 50 osób.\n",
      "Autbous 2 pomieści 90 osób.\n",
      "Pojazd 2 pomieści 4 osób.\n"
     ]
    }
   ],
   "source": [
    "'''\n",
    "Zadanie 7\n",
    "klasie Pojazd utwórz metodę liczba_miejsc, która będzie przyjmowała jako argument liczbę miejsc i wyświetlała komunikat:\n",
    "\"{TU WSTAWIMY NAZWE POJAZDU} pomieści {LICZBA MIEJSC} osób.\"\n",
    "Klasa Autobus ma też dziedziczyć tę metodę, ale dodatkowo przyjmować wartość domyślną dla liczby miejsc = 50\n",
    "Utwórz instancję klasy aby zaprezentować działanie\n",
    "'''\n",
    "autobus = Autobus(160, 400, \"Autbous 2\")\n",
    "print(autobus.liczba_miejsc())\n",
    "print(autobus.liczba_miejsc(90))\n",
    "\n",
    "pojazd = Pojazd(300, 400, \"Pojazd 2\")\n",
    "print(pojazd.liczba_miejsc(4))"
   ]
  },
  {
   "cell_type": "code",
   "execution_count": 26,
   "metadata": {
    "id": "y2s80EMmWrKP"
   },
   "outputs": [
    {
     "name": "stdout",
     "output_type": "stream",
     "text": [
      "True\n"
     ]
    }
   ],
   "source": [
    "'''\n",
    "Zadanie 8\n",
    "Sprawdź czy obiekt autobus jest instancją klasy Pojazd\n",
    "'''\n",
    "print(isinstance(autobus, Pojazd))"
   ]
  },
  {
   "cell_type": "markdown",
   "metadata": {
    "id": "jjNBmv7pVwP_"
   },
   "source": [
    "## PRACA DOMOWA (15 pkt)"
   ]
  },
  {
   "cell_type": "code",
   "execution_count": 3,
   "metadata": {
    "id": "TTUMq_uuVx32"
   },
   "outputs": [
    {
     "name": "stdout",
     "output_type": "stream",
     "text": [
      "29\n",
      "29\n"
     ]
    }
   ],
   "source": [
    "'''\n",
    "Zadanie 1 (4 pkt)\n",
    "Wykorzystując dekoratory, napisz cache dla funkcji tetranacci z poprzedniego zadania.\n",
    "Ten dekorator powinien zapobiegać przed ponownym obliczaniem tych samych wartości.\n",
    "'''\n",
    "# rozwiązanie 1: z wykorzysteniem *args i **kwargs\n",
    "def decorator(func):\n",
    "    values = { }\n",
    "    def wrapper(*args, **kwargs):\n",
    "        key = sum(args) + sum(kwargs)\n",
    "        if key in values:\n",
    "            return values[key]\n",
    "        else:\n",
    "            values[key] = func(key)\n",
    "            return func(*args, **kwargs)\n",
    "    return wrapper\n",
    "\n",
    "@decorator\n",
    "def tetranacci(n):\n",
    "    if n == 1 or n == 2 or n == 3:\n",
    "        return 0\n",
    "    elif n == 4:\n",
    "        return 1\n",
    "    else:\n",
    "        return tetranacci(n-1) + tetranacci(n-2) + tetranacci(n-3) + tetranacci(n-4)\n",
    "    \n",
    "print(tetranacci(10))\n",
    "\n",
    "# rozwiązanie 2: z argumentem n\n",
    "\n",
    "def decorator2(func):\n",
    "    values = { }\n",
    "    def wrapper(n):\n",
    "        if n in values:\n",
    "            return values[n]\n",
    "        else:\n",
    "            values[n] = func(n)\n",
    "            return func(n)\n",
    "    return wrapper\n",
    "\n",
    "@decorator2\n",
    "def tetranacci(n):\n",
    "    if n == 1 or n == 2 or n == 3:\n",
    "        return 0\n",
    "    elif n == 4:\n",
    "        return 1\n",
    "    else:\n",
    "        return tetranacci(n-1) + tetranacci(n-2) + tetranacci(n-3) + tetranacci(n-4)\n",
    "    \n",
    "print(tetranacci(10))\n"
   ]
  },
  {
   "cell_type": "code",
   "execution_count": 11,
   "metadata": {
    "id": "Q_Ur2Z9uWF-l"
   },
   "outputs": [
    {
     "name": "stdout",
     "output_type": "stream",
     "text": [
      "4\n",
      "4\n",
      "4\n",
      "4\n",
      "4\n",
      "4\n",
      "4\n",
      "4\n",
      "4\n"
     ]
    }
   ],
   "source": [
    "'''\n",
    "Zadanie 2 (4 pkt)\n",
    "Zaimplementuj własny generator o nazwie repeat, zwracający obiekt podany przez użytkownika dokładnie N razy.\n",
    "Jeśli wartość parametru N nie została określona, generator powinien zwracać wartości w nieskończoność.\n",
    "\n",
    "PRZYKŁAD\n",
    "repeat(10, 3) → 10 10 10\n",
    "repeat(10, 5) → 10 10 10 10 10\n",
    "repeat(5) → 5 5 5 5 5 5 5 5 5 5 5 5 5 5 5…\n",
    "repeat(5, None) → 5 5 5 5 5 5 5 5 5 5 5 5 5 5 5…\n",
    "'''\n",
    "import math\n",
    "def repeat(number, count = math.inf):\n",
    "    value = 0\n",
    "    if count is None:\n",
    "        value = math.inf\n",
    "    else:\n",
    "        value = count\n",
    "        \n",
    "    while value > 0:\n",
    "        value -= 1\n",
    "        yield number\n",
    "        \n",
    "repeat = repeat(4, None)\n",
    "print(next(repeat))\n",
    "print(next(repeat))\n",
    "print(next(repeat))\n",
    "print(next(repeat))\n",
    "print(next(repeat))\n",
    "print(next(repeat))\n",
    "print(next(repeat))\n",
    "print(next(repeat))\n",
    "print(next(repeat))"
   ]
  },
  {
   "cell_type": "code",
   "execution_count": 15,
   "metadata": {
    "id": "gChh80FsWzT7"
   },
   "outputs": [
    {
     "name": "stdout",
     "output_type": "stream",
     "text": [
      "bialy\n"
     ]
    }
   ],
   "source": [
    "'''\n",
    "Zadanie 3 (1 pkt)\n",
    "W kodzie z zajęć w klasie Pojazd utwórz atrybut, który niezależnie od utworzonego obiektu będzie miał taką samą wartość.\n",
    "każdy obiekt ma mieć kolor biały\n",
    "'''\n",
    "\n",
    "class Pojazd:\n",
    "    def __init__(self, predkosc_max, przebieg, model):\n",
    "        self.predkosc_max = predkosc_max\n",
    "        self.przebieg = przebieg\n",
    "        self.model = model\n",
    "        self._kolor = \"bialy\"\n",
    "    \n",
    "    \n",
    "    '''\n",
    "    dodanie ten funkcji sprawia, że nie będzie możliwa zmiana koloru pojadu, natomiast jeśli\n",
    "    chcemy aby zmiana koloru była możliwa, wystarczy usunąć tą fukcję oraz _ przez słowem kolor\n",
    "    w konstruktorze\n",
    "    '''\n",
    "    @property\n",
    "    def kolor(self):\n",
    "        return self._kolor\n",
    "\n",
    "    def liczba_miejsc(self, miejsca):\n",
    "        return f\"{self.model} pomieści {miejsca} osób.\"\n",
    "    \n",
    "pojazd = Pojazd(200, 34, \"Pojazd XYZ\")\n",
    "print(pojazd.kolor)"
   ]
  },
  {
   "cell_type": "code",
   "execution_count": 19,
   "metadata": {
    "id": "Q4Js_zjIXHZi"
   },
   "outputs": [
    {
     "name": "stdout",
     "output_type": "stream",
     "text": [
      "5500.0\n"
     ]
    }
   ],
   "source": [
    "'''\n",
    "Zadanie 4 (2 pkt)\n",
    "Wykorzystaj klasy Autobus i Pojazd.\n",
    "Zdefiniuj metodę opłata, k†óra będzie miała wartość domyślną liczba_miejsc * 100\n",
    "Jeżeli Pojazd jest instancją Autobusu, opłata ma zostać powiększona o 10% wartości opłaty początkowej.\n",
    "Np. jeżeli autobus domyślnie ma 50 miejsc to opłata całkowita wyniesie 5500\n",
    "'''\n",
    "\n",
    "class Pojazd:\n",
    "    def __init__(self, predkosc_max, przebieg, model):\n",
    "        self.predkosc_max = predkosc_max\n",
    "        self.przebieg = przebieg\n",
    "        self.model = model\n",
    "        self._kolor = \"bialy\"\n",
    "        \n",
    "    @property\n",
    "    def kolor(self):\n",
    "        return self._kolor\n",
    "\n",
    "    def liczba_miejsc(self, miejsca):\n",
    "        return f\"{self.model} pomieści {miejsca} osób.\"\n",
    "    \n",
    "    def oplata(self, liczba_miejsc):\n",
    "        return liczba_miejsc * 100\n",
    "    \n",
    "class Autobus(Pojazd):\n",
    "    def __init__(self, predkosc_max, przebieg, model):\n",
    "        super().__init__(predkosc_max, przebieg, model)\n",
    "\n",
    "    def liczba_miejsc(self, miejsca=50):\n",
    "        return f\"{self.model} pomieści {miejsca} osób.\"\n",
    "    \n",
    "    def oplata(self, liczba_miejsc):\n",
    "        return super().oplata(liczba_miejsc) * 1.1\n",
    "\n",
    "autobus = Autobus(150, 200, \"Autobus XYZ\")\n",
    "print(autobus.oplata(50))"
   ]
  },
  {
   "cell_type": "code",
   "execution_count": 42,
   "metadata": {
    "id": "BsdImsIAXXsu"
   },
   "outputs": [
    {
     "name": "stdout",
     "output_type": "stream",
     "text": [
      "Dwa rozwiązania: (-1+0j), (-0.5+0j)\n",
      "1.0\n",
      "6.0\n",
      "inf\n",
      "None\n",
      "-1.5\n",
      "((-1-1.4142135623730951j), (-1+1.4142135623730951j))\n",
      "((2+0j), (3+0j))\n",
      "-2.0\n"
     ]
    }
   ],
   "source": [
    "'''\n",
    "Zadanie 5 (4 pkt)\n",
    "Napisz klasę FunkcjaKwadratowa, która przechowuje funkcje typu $ax^2$+bx+c.\n",
    "Klasa powinna zawierać trzy pola: a, b, c, które są przypisywane w konstruktorze.\n",
    "Główną metodą powinna być rozwiaz(), która zwraca miejsca zerowe podanej funkcji.\n",
    "Należy zwrócić uwagę na przypadki gdy a=0, b=0 lub c=0,\n",
    "a także obmyślić sposób informowania o nieskończonej liczbie, jednym lub zerze rozwiązań.\n",
    "'''\n",
    "\n",
    "'''\n",
    "początek kodu dla ułatwienia\n",
    "\n",
    "'''\n",
    "import math\n",
    "import cmath\n",
    "\n",
    "class FunkcjaKwadratowa:\n",
    "    def __init__(self, a, b, c):\n",
    "        self.a = a\n",
    "        self.b = b\n",
    "        self.c = c\n",
    "\n",
    "    def wypisz(self):\n",
    "        wynik = self.rozwiaz()\n",
    "        if wynik == \"inf\":\n",
    "            print(\"Nieskończenie wiele rozwiązań\")\n",
    "        elif wynik is None:\n",
    "            print(\"Brak rozwiązań\")\n",
    "        elif isinstance(wynik, float) or len(wynik) == 1:\n",
    "            print(f\"Jedno rozwiązanie: {wynik}\")\n",
    "        elif len(wynik) == 2:\n",
    "            print(f\"Dwa rozwiązania: {wynik[0]}, {wynik[1]}\")\n",
    "        else:\n",
    "            return \"Błąd\"\n",
    "\n",
    "    def oblicz_wartosc(self, x):\n",
    "        return self.a * math.pow(x, 2) + self.b * x + self.c\n",
    "\n",
    "    def rozwiaz(self):\n",
    "        if self.a == 0 and self.b == 0 and self.c == 0:\n",
    "            return \"inf\"\n",
    "        elif self.a == 0 and self.b != 0:\n",
    "            if self.c == 0:\n",
    "                return 0\n",
    "            else:\n",
    "                return -self.c / self.b\n",
    "        else:\n",
    "            delta = (math.pow(self.b, 2)) - (4*self.a*self.c)\n",
    "            if self.a == 0:\n",
    "                return None\n",
    "            else :\n",
    "                if delta == 0:\n",
    "                    wynik = (-self.b / (2 * self.a))\n",
    "                    return wynik            \n",
    "                else:\n",
    "                    wynik1 = (-self.b - cmath.sqrt(delta)) / (2 * self.a)\n",
    "                    wynik2 = (-self.b + cmath.sqrt(delta)) / (2 * self.a)\n",
    "                    return (wynik1, wynik2)\n",
    "\n",
    "def main():\n",
    "    f1 = FunkcjaKwadratowa(2, 3, 1)\n",
    "    f1.wypisz()\n",
    "    print(f1.oblicz_wartosc(0))\n",
    "    print(f1.oblicz_wartosc(1))\n",
    "    print(FunkcjaKwadratowa(0, 0, 0).rozwiaz())\n",
    "    print(FunkcjaKwadratowa(0, 0, 1).rozwiaz())\n",
    "    print(FunkcjaKwadratowa(0, 2, 3).rozwiaz())\n",
    "    print(FunkcjaKwadratowa(1, 2, 3).rozwiaz())\n",
    "    print(FunkcjaKwadratowa(1, -5, 6).rozwiaz())\n",
    "    print(FunkcjaKwadratowa(1, 4, 4).rozwiaz())\n",
    "\n",
    "if __name__ == \"__main__\":\n",
    "    main()"
   ]
  },
  {
   "cell_type": "code",
   "execution_count": null,
   "metadata": {},
   "outputs": [],
   "source": []
  }
 ],
 "metadata": {
  "colab": {
   "authorship_tag": "ABX9TyPfvCA8avt9JyH+RrMyhpFb",
   "provenance": []
  },
  "kernelspec": {
   "display_name": "Python 3 (ipykernel)",
   "language": "python",
   "name": "python3"
  },
  "language_info": {
   "codemirror_mode": {
    "name": "ipython",
    "version": 3
   },
   "file_extension": ".py",
   "mimetype": "text/x-python",
   "name": "python",
   "nbconvert_exporter": "python",
   "pygments_lexer": "ipython3",
   "version": "3.11.5"
  }
 },
 "nbformat": 4,
 "nbformat_minor": 1
}
